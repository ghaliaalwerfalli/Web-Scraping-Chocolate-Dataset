{
 "cells": [
  {
   "cell_type": "markdown",
   "id": "26418990",
   "metadata": {},
   "source": [
    "## Data Scraping -- Chocolate Database \n",
    "\n",
    "    Data is scraped from https://flavorsofcacao.com/chocolate_database.html originally but due to the website using Spry Framework and requesting the required table through another HTML page; a browser tool like Brave developer tool to spot XHR requests during a reload of the page led to this page http://flavorsofcacao.com/database_w_REF.html and it will be used to scrape and parse data from."
   ]
  },
  {
   "cell_type": "code",
   "execution_count": 1,
   "id": "e3576044",
   "metadata": {},
   "outputs": [],
   "source": [
    "#Import libraries needed for scraping\n",
    "from bs4 import BeautifulSoup\n",
    "import requests\n",
    "import csv\n",
    "\n",
    "#Import libraries needed for cleaning\n",
    "import pandas as pd"
   ]
  },
  {
   "cell_type": "code",
   "execution_count": 2,
   "id": "57c81490",
   "metadata": {},
   "outputs": [],
   "source": [
    "#Requesting authontication from HTML page \n",
    "#Using BeautifulSoup to show what is inside the tags\n",
    "\n",
    "requesting_page = requests.get(\"http://flavorsofcacao.com/database_w_REF.html\")\n",
    "soup = BeautifulSoup(requesting_page.content, \"html.parser\")"
   ]
  },
  {
   "cell_type": "code",
   "execution_count": 3,
   "id": "583180e8",
   "metadata": {},
   "outputs": [],
   "source": [
    "#Writing scraped chocolate table into csv file using csv.writer and \"th\" from table's headers tag\n",
    "\n",
    "with open('chocolate_database.csv', 'w', newline='', encoding='utf-8') as chocolate_data:\n",
    "    csv_chocolate = csv.writer(chocolate_data)\n",
    "    csv_chocolate.writerow([th.get_text(strip=True) for th in soup.table.tr.find_all('th')])\n",
    "\n",
    "    for tr in soup.table.find_all(\"tr\")[1:]:\n",
    "        csv_chocolate.writerow([td.get_text(strip=True) for td in tr.find_all('td')])"
   ]
  },
  {
   "cell_type": "markdown",
   "id": "b9d7cb5b",
   "metadata": {},
   "source": [
    "## Data Cleaning -- Chocolate Database \n",
    "\n",
    "    Chocolate dataset has 2530 rows and 10 columns and 87 rows that contain NaN values in Ingredients column. There are two splutions for this, either to simply delete rows that contain missing values using \"df.dropna()\", which leads to loss of information. Second solution would be to replace missing values with empty space to avoid the deletions of the whole row. "
   ]
  },
  {
   "cell_type": "code",
   "execution_count": 4,
   "id": "036af759",
   "metadata": {},
   "outputs": [
    {
     "data": {
      "text/html": [
       "<div>\n",
       "<style scoped>\n",
       "    .dataframe tbody tr th:only-of-type {\n",
       "        vertical-align: middle;\n",
       "    }\n",
       "\n",
       "    .dataframe tbody tr th {\n",
       "        vertical-align: top;\n",
       "    }\n",
       "\n",
       "    .dataframe thead th {\n",
       "        text-align: right;\n",
       "    }\n",
       "</style>\n",
       "<table border=\"1\" class=\"dataframe\">\n",
       "  <thead>\n",
       "    <tr style=\"text-align: right;\">\n",
       "      <th></th>\n",
       "      <th>REF</th>\n",
       "      <th>Company (Manufacturer)</th>\n",
       "      <th>Company Location</th>\n",
       "      <th>Review Date</th>\n",
       "      <th>Country of Bean Origin</th>\n",
       "      <th>Specific Bean Origin or Bar Name</th>\n",
       "      <th>Cocoa Percent</th>\n",
       "      <th>Ingredients</th>\n",
       "      <th>Most Memorable Characteristics</th>\n",
       "      <th>Rating</th>\n",
       "    </tr>\n",
       "  </thead>\n",
       "  <tbody>\n",
       "    <tr>\n",
       "      <th>0</th>\n",
       "      <td>2454</td>\n",
       "      <td>5150</td>\n",
       "      <td>U.S.A.</td>\n",
       "      <td>2019</td>\n",
       "      <td>Tanzania</td>\n",
       "      <td>Kokoa Kamili, batch 1</td>\n",
       "      <td>76%</td>\n",
       "      <td>3- B,S,C</td>\n",
       "      <td>rich cocoa, fatty, bready</td>\n",
       "      <td>3.25</td>\n",
       "    </tr>\n",
       "    <tr>\n",
       "      <th>1</th>\n",
       "      <td>2458</td>\n",
       "      <td>5150</td>\n",
       "      <td>U.S.A.</td>\n",
       "      <td>2019</td>\n",
       "      <td>Dominican Republic</td>\n",
       "      <td>Zorzal, batch 1</td>\n",
       "      <td>76%</td>\n",
       "      <td>3- B,S,C</td>\n",
       "      <td>cocoa, vegetal, savory</td>\n",
       "      <td>3.50</td>\n",
       "    </tr>\n",
       "    <tr>\n",
       "      <th>2</th>\n",
       "      <td>2454</td>\n",
       "      <td>5150</td>\n",
       "      <td>U.S.A.</td>\n",
       "      <td>2019</td>\n",
       "      <td>Madagascar</td>\n",
       "      <td>Bejofo Estate, batch 1</td>\n",
       "      <td>76%</td>\n",
       "      <td>3- B,S,C</td>\n",
       "      <td>cocoa, blackberry, full body</td>\n",
       "      <td>3.75</td>\n",
       "    </tr>\n",
       "    <tr>\n",
       "      <th>3</th>\n",
       "      <td>2542</td>\n",
       "      <td>5150</td>\n",
       "      <td>U.S.A.</td>\n",
       "      <td>2021</td>\n",
       "      <td>Fiji</td>\n",
       "      <td>Matasawalevu, batch 1</td>\n",
       "      <td>68%</td>\n",
       "      <td>3- B,S,C</td>\n",
       "      <td>chewy, off, rubbery</td>\n",
       "      <td>3.00</td>\n",
       "    </tr>\n",
       "    <tr>\n",
       "      <th>4</th>\n",
       "      <td>2546</td>\n",
       "      <td>5150</td>\n",
       "      <td>U.S.A.</td>\n",
       "      <td>2021</td>\n",
       "      <td>Venezuela</td>\n",
       "      <td>Sur del Lago, batch 1</td>\n",
       "      <td>72%</td>\n",
       "      <td>3- B,S,C</td>\n",
       "      <td>fatty, earthy, moss, nutty,chalky</td>\n",
       "      <td>3.00</td>\n",
       "    </tr>\n",
       "  </tbody>\n",
       "</table>\n",
       "</div>"
      ],
      "text/plain": [
       "    REF Company (Manufacturer) Company Location  Review Date  \\\n",
       "0  2454                   5150           U.S.A.         2019   \n",
       "1  2458                   5150           U.S.A.         2019   \n",
       "2  2454                   5150           U.S.A.         2019   \n",
       "3  2542                   5150           U.S.A.         2021   \n",
       "4  2546                   5150           U.S.A.         2021   \n",
       "\n",
       "  Country of Bean Origin Specific Bean Origin or Bar Name Cocoa Percent  \\\n",
       "0               Tanzania            Kokoa Kamili, batch 1           76%   \n",
       "1     Dominican Republic                  Zorzal, batch 1           76%   \n",
       "2             Madagascar           Bejofo Estate, batch 1           76%   \n",
       "3                   Fiji            Matasawalevu, batch 1           68%   \n",
       "4              Venezuela            Sur del Lago, batch 1           72%   \n",
       "\n",
       "  Ingredients     Most Memorable Characteristics  Rating  \n",
       "0    3- B,S,C          rich cocoa, fatty, bready    3.25  \n",
       "1    3- B,S,C             cocoa, vegetal, savory    3.50  \n",
       "2    3- B,S,C       cocoa, blackberry, full body    3.75  \n",
       "3    3- B,S,C                chewy, off, rubbery    3.00  \n",
       "4    3- B,S,C  fatty, earthy, moss, nutty,chalky    3.00  "
      ]
     },
     "execution_count": 4,
     "metadata": {},
     "output_type": "execute_result"
    }
   ],
   "source": [
    "#Reading the dataset\n",
    "\n",
    "chocolate_df = pd.read_csv(r\"C:\\Users\\Toshiba\\Desktop\\projects\\chocolate_bar\\chocolate_database.csv\")\n",
    "chocolate_df.head(5)"
   ]
  },
  {
   "cell_type": "code",
   "execution_count": 5,
   "id": "5c35f925",
   "metadata": {},
   "outputs": [
    {
     "name": "stdout",
     "output_type": "stream",
     "text": [
      "Rows: 2530\n",
      "Columns: 10\n",
      "\n",
      "REF                                  0\n",
      "Company (Manufacturer)               0\n",
      "Company Location                     0\n",
      "Review Date                          0\n",
      "Country of Bean Origin               0\n",
      "Specific Bean Origin or Bar Name     0\n",
      "Cocoa Percent                        0\n",
      "Ingredients                         87\n",
      "Most Memorable Characteristics       0\n",
      "Rating                               0\n",
      "dtype: int64\n"
     ]
    }
   ],
   "source": [
    "#Counting number of rows and columns\n",
    "n_rows = chocolate_df.shape[0]\n",
    "n_columns = chocolate_df.shape[1]\n",
    "print(f'Rows: {n_rows}')\n",
    "print(f'Columns: {n_columns}')\n",
    "print()\n",
    "\n",
    "#Identifying which column has NaN and coming up with their total\n",
    "n_null = chocolate_df.isnull().sum()\n",
    "print(n_null)"
   ]
  },
  {
   "cell_type": "code",
   "execution_count": 6,
   "id": "1184c63f",
   "metadata": {},
   "outputs": [
    {
     "name": "stdout",
     "output_type": "stream",
     "text": [
      "0\n"
     ]
    }
   ],
   "source": [
    "#Replacing older DataFrame with newer one through replacing NaN with empty space \n",
    "chocolate_df_filled = chocolate_df.fillna(\" \")\n",
    "\n",
    "#Checking new DataFrame's NaN total\n",
    "print(chocolate_df_filled['Ingredients'].isnull().sum())\n",
    "\n",
    "#Creating a new csv replacing the first one\n",
    "chocolate_df_filled.to_csv('chocolate_dataset_cleaned.csv', index=False)"
   ]
  }
 ],
 "metadata": {
  "kernelspec": {
   "display_name": "Python 3 (ipykernel)",
   "language": "python",
   "name": "python3"
  },
  "language_info": {
   "codemirror_mode": {
    "name": "ipython",
    "version": 3
   },
   "file_extension": ".py",
   "mimetype": "text/x-python",
   "name": "python",
   "nbconvert_exporter": "python",
   "pygments_lexer": "ipython3",
   "version": "3.10.1"
  }
 },
 "nbformat": 4,
 "nbformat_minor": 5
}
